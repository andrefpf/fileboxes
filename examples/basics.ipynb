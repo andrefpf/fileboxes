{
 "cells": [
  {
   "cell_type": "markdown",
   "metadata": {},
   "source": [
    "# Import the library"
   ]
  },
  {
   "cell_type": "code",
   "execution_count": 1,
   "metadata": {},
   "outputs": [],
   "source": [
    "from fileboxes import Filebox\n",
    "from PIL import Image"
   ]
  },
  {
   "cell_type": "markdown",
   "metadata": {},
   "source": [
    "# Write a simple TXT\n",
    "\n",
    "This is how you store a simple text file inside your filebox!\n",
    "\n",
    "Just tell the name of the subfile and pass a string."
   ]
  },
  {
   "cell_type": "code",
   "execution_count": 14,
   "metadata": {},
   "outputs": [],
   "source": [
    "data = \"Hello World\"\n",
    "data2 = \"SAPO ALÉRGICO\"\n",
    "data3 = \"SAPO DIABÉTICO\"\n",
    "\n",
    "f = Filebox(\"bla.fb\")\n",
    "f.write(\"hello\", data)\n",
    "f.write(\"sapo\", data2)\n",
    "\n",
    "image_path = \"logo.png\"\n",
    "image = Image.open(image_path)\n",
    "\n",
    "f.write(\"logo.png\", image)\n",
    "image = f.read(\"logo.png\")\n",
    "image.show()\n"
   ]
  },
  {
   "cell_type": "markdown",
   "metadata": {},
   "source": [
    "Now let's verify if the data is actually there"
   ]
  },
  {
   "cell_type": "code",
   "execution_count": 15,
   "metadata": {},
   "outputs": [
    {
     "name": "stdout",
     "output_type": "stream",
     "text": [
      "bla.fb\n",
      "├── hello\n",
      "├── logo.png\n",
      "└── sapo\n",
      "\n"
     ]
    }
   ],
   "source": [
    "f.show_file_structure()"
   ]
  },
  {
   "cell_type": "markdown",
   "metadata": {},
   "source": [
    "# Subfolders\n",
    "\n",
    "To create more complex subfolders you can just specify it in the file name."
   ]
  },
  {
   "cell_type": "code",
   "execution_count": 16,
   "metadata": {},
   "outputs": [
    {
     "name": "stdout",
     "output_type": "stream",
     "text": [
      "bla.fb\n",
      "├── folder\n",
      "│   ├── fancy\n",
      "│   └── text\n",
      "├── hello\n",
      "├── logo.png\n",
      "└── sapo\n",
      "\n"
     ]
    }
   ],
   "source": [
    "f.write(\"folder/fancy\", \"Fancy\")\n",
    "f.write(\"folder/text\", \"Texts\")\n",
    "\n",
    "f.show_file_structure()"
   ]
  },
  {
   "cell_type": "markdown",
   "metadata": {},
   "source": [
    "# Custom data\n",
    "\n",
    "If you pass a list or a dict object to the write function a json file will be created internally.\n",
    "\n",
    "This json file is configured in such a way that complex numbers, dataclasses and other structures are handled automatically."
   ]
  },
  {
   "cell_type": "code",
   "execution_count": 17,
   "metadata": {},
   "outputs": [
    {
     "name": "stdout",
     "output_type": "stream",
     "text": [
      "bla.fb\n",
      "├── dict\n",
      "├── folder\n",
      "│   ├── fancy\n",
      "│   └── text\n",
      "├── hello\n",
      "├── list\n",
      "├── logo.png\n",
      "└── sapo\n",
      "\n"
     ]
    }
   ],
   "source": [
    "list_data = [1, 2, 3, 4]\n",
    "dict_data = {\n",
    "    \"Hello\": \"Olá\",\n",
    "    \"World\": \"Mundo\",\n",
    "    \"number\": 1 + 2j,\n",
    "}\n",
    "\n",
    "f.write(\"list\", list_data)\n",
    "f.write(\"dict\", dict_data)\n",
    "f.show_file_structure()"
   ]
  }
 ],
 "metadata": {
  "kernelspec": {
   "display_name": ".venv",
   "language": "python",
   "name": "python3"
  },
  "language_info": {
   "codemirror_mode": {
    "name": "ipython",
    "version": 3
   },
   "file_extension": ".py",
   "mimetype": "text/x-python",
   "name": "python",
   "nbconvert_exporter": "python",
   "pygments_lexer": "ipython3",
   "version": "3.11.8"
  }
 },
 "nbformat": 4,
 "nbformat_minor": 2
}
