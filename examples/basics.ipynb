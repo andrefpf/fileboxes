{
 "cells": [
  {
   "cell_type": "markdown",
   "metadata": {},
   "source": [
    "# Import the library"
   ]
  },
  {
   "cell_type": "code",
   "execution_count": 3,
   "metadata": {},
   "outputs": [],
   "source": [
    "from fileboxes import Filebox\n",
    "from PIL import Image"
   ]
  },
  {
   "cell_type": "markdown",
   "metadata": {},
   "source": [
    "# Write a simple TXT\n",
    "\n",
    "This is how you store a simple text file inside your filebox!\n",
    "\n",
    "Just tell the name of the subfile and pass a string."
   ]
  },
  {
   "cell_type": "code",
   "execution_count": 12,
   "metadata": {},
   "outputs": [
    {
     "ename": "UnicodeDecodeError",
     "evalue": "'utf-8' codec can't decode byte 0xff in position 0: invalid start byte",
     "output_type": "error",
     "traceback": [
      "\u001b[1;31m---------------------------------------------------------------------------\u001b[0m",
      "\u001b[1;31mUnicodeDecodeError\u001b[0m                        Traceback (most recent call last)",
      "Cell \u001b[1;32mIn[12], line 11\u001b[0m\n\u001b[0;32m      7\u001b[0m image \u001b[38;5;241m=\u001b[39m Image\u001b[38;5;241m.\u001b[39mopen(image_path)\n\u001b[0;32m      9\u001b[0m f\u001b[38;5;241m.\u001b[39mwrite(\u001b[38;5;124m\"\u001b[39m\u001b[38;5;124mfoto_cafe.jpg\u001b[39m\u001b[38;5;124m\"\u001b[39m, image)\n\u001b[1;32m---> 11\u001b[0m image \u001b[38;5;241m=\u001b[39m \u001b[43mf\u001b[49m\u001b[38;5;241;43m.\u001b[39;49m\u001b[43mread\u001b[49m\u001b[43m(\u001b[49m\u001b[38;5;124;43m\"\u001b[39;49m\u001b[38;5;124;43mfoto_cafe.jpg\u001b[39;49m\u001b[38;5;124;43m\"\u001b[39;49m\u001b[43m)\u001b[49m\n\u001b[0;32m     12\u001b[0m image \u001b[38;5;241m=\u001b[39m image\u001b[38;5;241m.\u001b[39mresize((\u001b[38;5;241m2\u001b[39m, \u001b[38;5;241m2\u001b[39m))\n\u001b[0;32m     13\u001b[0m image\u001b[38;5;241m.\u001b[39mshow()\n",
      "File \u001b[1;32m~\\fileboxes\\fileboxes\\filebox.py:45\u001b[0m, in \u001b[0;36mFilebox.read\u001b[1;34m(self, arcname)\u001b[0m\n\u001b[0;32m     42\u001b[0m     \u001b[38;5;28;01mreturn\u001b[39;00m \u001b[38;5;28mself\u001b[39m\u001b[38;5;241m.\u001b[39m_read_image(arcname)\n\u001b[0;32m     44\u001b[0m \u001b[38;5;28;01melse\u001b[39;00m:\n\u001b[1;32m---> 45\u001b[0m     \u001b[38;5;28;01mreturn\u001b[39;00m \u001b[38;5;28;43mself\u001b[39;49m\u001b[38;5;241;43m.\u001b[39;49m\u001b[43m_read_string\u001b[49m\u001b[43m(\u001b[49m\u001b[43marcname\u001b[49m\u001b[43m)\u001b[49m\n",
      "File \u001b[1;32m~\\fileboxes\\fileboxes\\filebox.py:119\u001b[0m, in \u001b[0;36mFilebox._read_string\u001b[1;34m(self, arcname)\u001b[0m\n\u001b[0;32m    117\u001b[0m \u001b[38;5;28;01mwith\u001b[39;00m ZipFile(\u001b[38;5;28mself\u001b[39m\u001b[38;5;241m.\u001b[39mpath, \u001b[38;5;124m\"\u001b[39m\u001b[38;5;124mr\u001b[39m\u001b[38;5;124m\"\u001b[39m) \u001b[38;5;28;01mas\u001b[39;00m \u001b[38;5;28mzip\u001b[39m:\n\u001b[0;32m    118\u001b[0m     data \u001b[38;5;241m=\u001b[39m \u001b[38;5;28mzip\u001b[39m\u001b[38;5;241m.\u001b[39mread(arcname)\n\u001b[1;32m--> 119\u001b[0m \u001b[38;5;28;01mreturn\u001b[39;00m \u001b[43mdata\u001b[49m\u001b[38;5;241;43m.\u001b[39;49m\u001b[43mdecode\u001b[49m\u001b[43m(\u001b[49m\u001b[38;5;124;43m\"\u001b[39;49m\u001b[38;5;124;43mutf-8\u001b[39;49m\u001b[38;5;124;43m\"\u001b[39;49m\u001b[43m)\u001b[49m\n",
      "\u001b[1;31mUnicodeDecodeError\u001b[0m: 'utf-8' codec can't decode byte 0xff in position 0: invalid start byte"
     ]
    }
   ],
   "source": [
    "f = Filebox(\"bla.bot\")\n",
    "data = \"cafe\"\n",
    "\n",
    "f.write(\"filtro\", data)\n",
    "\n",
    "image_path = \"../data/cafe.jpg\"\n",
    "image = Image.open(image_path)\n",
    "\n",
    "f.write(\"foto_cafe.jpg\", image)\n",
    "\n",
    "image = f.read(\"foto_cafe.jpg\")\n",
    "image = image.resize((2, 2))\n",
    "image.show()\n"
   ]
  },
  {
   "cell_type": "markdown",
   "metadata": {},
   "source": [
    "Now let's verify if the data is actually there"
   ]
  },
  {
   "cell_type": "code",
   "execution_count": 7,
   "metadata": {},
   "outputs": [
    {
     "name": "stdout",
     "output_type": "stream",
     "text": [
      "bla.bot\n",
      "├── filtro\n",
      "└── foto_cafe.jpg\n",
      "\n"
     ]
    }
   ],
   "source": [
    "f.show_file_structure()"
   ]
  },
  {
   "cell_type": "markdown",
   "metadata": {},
   "source": [
    "# Subfolders\n",
    "\n",
    "To create more complex subfolders you can just specify it in the file name."
   ]
  },
  {
   "cell_type": "code",
   "execution_count": 16,
   "metadata": {},
   "outputs": [
    {
     "name": "stdout",
     "output_type": "stream",
     "text": [
      "bla.fb\n",
      "├── folder\n",
      "│   ├── fancy\n",
      "│   └── text\n",
      "├── hello\n",
      "├── logo.png\n",
      "└── sapo\n",
      "\n"
     ]
    }
   ],
   "source": [
    "f.write(\"folder/fancy\", \"Fancy\")\n",
    "f.write(\"folder/text\", \"Texts\")\n",
    "\n",
    "f.show_file_structure()"
   ]
  },
  {
   "cell_type": "markdown",
   "metadata": {},
   "source": [
    "# Custom data\n",
    "\n",
    "If you pass a list or a dict object to the write function a json file will be created internally.\n",
    "\n",
    "This json file is configured in such a way that complex numbers, dataclasses and other structures are handled automatically."
   ]
  },
  {
   "cell_type": "code",
   "execution_count": 17,
   "metadata": {},
   "outputs": [
    {
     "name": "stdout",
     "output_type": "stream",
     "text": [
      "bla.fb\n",
      "├── dict\n",
      "├── folder\n",
      "│   ├── fancy\n",
      "│   └── text\n",
      "├── hello\n",
      "├── list\n",
      "├── logo.png\n",
      "└── sapo\n",
      "\n"
     ]
    }
   ],
   "source": [
    "list_data = [1, 2, 3, 4]\n",
    "dict_data = {\n",
    "    \"Hello\": \"Olá\",\n",
    "    \"World\": \"Mundo\",\n",
    "    \"number\": 1 + 2j,\n",
    "}\n",
    "\n",
    "f.write(\"list\", list_data)\n",
    "f.write(\"dict\", dict_data)\n",
    "f.show_file_structure()"
   ]
  }
 ],
 "metadata": {
  "kernelspec": {
   "display_name": ".venv",
   "language": "python",
   "name": "python3"
  },
  "language_info": {
   "codemirror_mode": {
    "name": "ipython",
    "version": 3
   },
   "file_extension": ".py",
   "mimetype": "text/x-python",
   "name": "python",
   "nbconvert_exporter": "python",
   "pygments_lexer": "ipython3",
   "version": "3.11.8"
  }
 },
 "nbformat": 4,
 "nbformat_minor": 2
}
