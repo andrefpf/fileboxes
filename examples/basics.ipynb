{
 "cells": [
  {
   "cell_type": "markdown",
   "metadata": {},
   "source": [
    "# Import the library"
   ]
  },
  {
   "cell_type": "code",
   "execution_count": 6,
   "metadata": {},
   "outputs": [],
   "source": [
    "from fileboxes import Filebox"
   ]
  },
  {
   "cell_type": "markdown",
   "metadata": {},
   "source": [
    "# Write a simple TXT\n",
    "\n",
    "This is how you store a simple text file inside your filebox!\n",
    "\n",
    "Just tell the name of the subfile and pass a string."
   ]
  },
  {
   "cell_type": "code",
   "execution_count": 11,
   "metadata": {},
   "outputs": [],
   "source": [
    "data = \"Hello World\"\n",
    "data2 = \"SAPO ALÉRGICO\"\n",
    "data3 = \"data/logo.png\"\n",
    "\n",
    "f = Filebox(\"bla.fb\")\n",
    "f.write(\"hello\", data2)\n",
    "f.write(\"imagem\", data3)"
   ]
  },
  {
   "cell_type": "markdown",
   "metadata": {},
   "source": [
    "Now let's verify if the data is actually there"
   ]
  },
  {
   "cell_type": "code",
   "execution_count": 10,
   "metadata": {},
   "outputs": [
    {
     "name": "stdout",
     "output_type": "stream",
     "text": [
      "bla.fb\n",
      "└── hello\n",
      "\n"
     ]
    }
   ],
   "source": [
    "f.show_file_structure()"
   ]
  },
  {
   "cell_type": "markdown",
   "metadata": {},
   "source": [
    "# Subfolders\n",
    "\n",
    "To create more complex subfolders you can just specify it in the file name."
   ]
  },
  {
   "cell_type": "code",
   "execution_count": 4,
   "metadata": {},
   "outputs": [
    {
     "name": "stdout",
     "output_type": "stream",
     "text": [
      "bla.fb\n",
      "├── folder\n",
      "│   ├── fancy\n",
      "│   └── text\n",
      "└── hello\n",
      "\n"
     ]
    }
   ],
   "source": [
    "f.write(\"folder/fancy\", \"Fancy\")\n",
    "f.write(\"folder/text\", \"Texts\")\n",
    "\n",
    "f.show_file_structure()"
   ]
  },
  {
   "cell_type": "markdown",
   "metadata": {},
   "source": [
    "# Custom data\n",
    "\n",
    "If you pass a list or a dict object to the write function a json file will be created internally.\n",
    "\n",
    "This json file is configured in such a way that complex numbers, dataclasses and other structures are handled automatically."
   ]
  },
  {
   "cell_type": "code",
   "execution_count": 5,
   "metadata": {},
   "outputs": [
    {
     "name": "stdout",
     "output_type": "stream",
     "text": [
      "bla.fb\n",
      "├── dict\n",
      "├── folder\n",
      "│   ├── fancy\n",
      "│   └── text\n",
      "├── hello\n",
      "└── list\n",
      "\n"
     ]
    }
   ],
   "source": [
    "list_data = [1, 2, 3, 4]\n",
    "dict_data = {\n",
    "    \"Hello\": \"Olá\",\n",
    "    \"World\": \"Mundo\",\n",
    "    \"number\": 1 + 2j,\n",
    "}\n",
    "\n",
    "f.write(\"list\", list_data)\n",
    "f.write(\"dict\", dict_data)\n",
    "f.show_file_structure()"
   ]
  }
 ],
 "metadata": {
  "kernelspec": {
   "display_name": ".venv",
   "language": "python",
   "name": "python3"
  },
  "language_info": {
   "codemirror_mode": {
    "name": "ipython",
    "version": 3
   },
   "file_extension": ".py",
   "mimetype": "text/x-python",
   "name": "python",
   "nbconvert_exporter": "python",
   "pygments_lexer": "ipython3",
   "version": "3.11.8"
  }
 },
 "nbformat": 4,
 "nbformat_minor": 2
}
